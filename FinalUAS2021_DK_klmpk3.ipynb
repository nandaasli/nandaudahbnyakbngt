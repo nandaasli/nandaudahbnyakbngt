{
  "nbformat": 4,
  "nbformat_minor": 5,
  "metadata": {
    "language_info": {
      "name": "python",
      "version": "3.7.8",
      "mimetype": "text/x-python",
      "codemirror_mode": {
        "name": "ipython",
        "version": 3
      },
      "pygments_lexer": "ipython3",
      "nbconvert_exporter": "python",
      "file_extension": ".py"
    },
    "kernelspec": {
      "name": "python3",
      "display_name": "Python 3",
      "language": "python"
    },
    "colab": {
      "name": "FinalUAS2021_DK.ipynb",
      "provenance": [],
      "collapsed_sections": [],
      "toc_visible": true
    }
  },
  "cells": [
    {
      "cell_type": "markdown",
      "metadata": {
        "id": "qoC6VrlqMFlo"
      },
      "source": [
        "# PROJECT UAS\n",
        "**Fatur Burhansyah, Muhammad Zidan, Sunanda**\n",
        "\n",
        "Tujuan: Identifikasi penyakit Kanker Payudara berbasis kecerdasan buatan menggunakan algoritma  KNN\n",
        "\n",
        "Bentuk Data: Sudah merupakan data terstruktur, data set diambil dari https://archive.ics.uci.edu/ml/datasets/Breast+Cancer+Coimbra\n",
        "\n",
        "**Parameter eksplanatori (X) =** 'Age', 'BMI', 'Glucose', 'Insulin', 'HOMA', 'Leptin', 'Adiponectin','Resistin', 'MCP_1'\n",
        "       \n",
        "**Parameter Target (Y) =**'Positif_Negative'\n",
        "\n",
        "Dari Parameter diatas maka kita mengetahui ini adalah kasus Supervised Learning dengan parameter target adalah bersifat kategori, sehingga model yang cocok digunakan adalah Model Klasifiasi"
      ],
      "id": "qoC6VrlqMFlo"
    },
    {
      "cell_type": "markdown",
      "metadata": {
        "id": "WNvcKitDMFlr"
      },
      "source": [
        "**Langkah Langkah**\n",
        "\n",
        "1. Import semua library yang kira kira diperlukan, standarnya untuk pengolahan data dengan machine learning kita memerlukan, Numpy, Pandas, SK Learn, matplotlib\n",
        "\n",
        "2. Panggil dataset, dan pahami data dengan menampilkan data ( kolom juga row) dan juga tampilkan summary data\n",
        "\n",
        "3. Data pre-processing and selection (Cek columns dan colums data types, convert data object to numeric)\n",
        "\n",
        "4. Train Test Split Dataset.(Atur nilai X, Atur nilai Y, Training dan Test, Normalisaisi, Cek ulang jumlah kolom dan baris dari dataset, Training dan test menjadi data training dan data testing menggunkana fungsi train_test_split)\n",
        "\n",
        "5. Pilih algoritma klasifikasi (KNN). Modeling (KNN with KNNeighbors)\n",
        "6. Mencari Setiap Metode Untuk DiPrediksi\n",
        "7. Analisa hasil"
      ],
      "id": "WNvcKitDMFlr"
    },
    {
      "cell_type": "markdown",
      "metadata": {
        "id": "xBC9WCfhMFlr"
      },
      "source": [
        "# Penjelasan Library Python\n",
        "\n",
        "**Dibawah Ini Penjelasan Tentang Modeling Yang Kami Gunakan Sebagai Berikut:**\n",
        "\n",
        "1.Library Numpy, Berfungsi Melakukan Operasi Proses Komputasi Tipe Data Numerik.\n",
        "\n",
        "2.Library Pandas, Berfungsi Menyiadakan Struktur Data Dan Analisa Sebuah Data Yang Digunakan.\n",
        "\n",
        "3.Library Matplotlib, Berfungsi Membuat Table Dan Grafik Untuk Analasisa Sebuah Data Yang Digunakan.\n",
        "\n",
        "4.Library Klasisfikasi Nearest Neighbor(KNN), Berfungsi Membuat Klasifikasi Pada Data Yang Akan Digunakan Akan Mendapat Table Grafik Efisiensi Komputasi & Akurasi Yang Baik."
      ],
      "id": "xBC9WCfhMFlr"
    },
    {
      "cell_type": "code",
      "metadata": {
        "id": "0dfwDlDlMFls",
        "trusted": true
      },
      "source": [
        "# 1 Panggil Libray yang diperlukan\n",
        "\n",
        "import pandas as pd\n",
        "import numpy as np\n",
        "import matplotlib.pyplot as plt\n",
        "from sklearn.model_selection import train_test_split\n",
        "from sklearn.neighbors import KNeighborsClassifier"
      ],
      "id": "0dfwDlDlMFls",
      "execution_count": null,
      "outputs": []
    },
    {
      "cell_type": "code",
      "metadata": {
        "colab": {
          "base_uri": "https://localhost:8080/",
          "height": 204
        },
        "id": "TQdoXebNMFls",
        "trusted": true,
        "outputId": "0a4e6d05-73c1-4814-996a-b87cfd2d7019"
      },
      "source": [
        "# langkah 2 Panggil data dan cek kondisi data\n",
        "\n",
        "# Untuk Memasukan Csv pada Data Kanker\n",
        "DK = pd.read_csv(\"DataKanker.csv\")\n",
        "\n",
        "#Menampilkan Data CSV Table Di Python\n",
        "DK.head()"
      ],
      "id": "TQdoXebNMFls",
      "execution_count": null,
      "outputs": [
        {
          "output_type": "execute_result",
          "data": {
            "text/html": [
              "<div>\n",
              "<style scoped>\n",
              "    .dataframe tbody tr th:only-of-type {\n",
              "        vertical-align: middle;\n",
              "    }\n",
              "\n",
              "    .dataframe tbody tr th {\n",
              "        vertical-align: top;\n",
              "    }\n",
              "\n",
              "    .dataframe thead th {\n",
              "        text-align: right;\n",
              "    }\n",
              "</style>\n",
              "<table border=\"1\" class=\"dataframe\">\n",
              "  <thead>\n",
              "    <tr style=\"text-align: right;\">\n",
              "      <th></th>\n",
              "      <th>Age</th>\n",
              "      <th>BMI</th>\n",
              "      <th>Glucose</th>\n",
              "      <th>Insulin</th>\n",
              "      <th>HOMA</th>\n",
              "      <th>Leptin</th>\n",
              "      <th>Adiponectin</th>\n",
              "      <th>Resistin</th>\n",
              "      <th>MCP_1</th>\n",
              "      <th>Positif_Negative</th>\n",
              "    </tr>\n",
              "  </thead>\n",
              "  <tbody>\n",
              "    <tr>\n",
              "      <th>0</th>\n",
              "      <td>48</td>\n",
              "      <td>23.500000</td>\n",
              "      <td>70</td>\n",
              "      <td>2.707</td>\n",
              "      <td>0.467409</td>\n",
              "      <td>8.8071</td>\n",
              "      <td>9.702400</td>\n",
              "      <td>7.99585</td>\n",
              "      <td>417.114</td>\n",
              "      <td>1</td>\n",
              "    </tr>\n",
              "    <tr>\n",
              "      <th>1</th>\n",
              "      <td>83</td>\n",
              "      <td>20.690495</td>\n",
              "      <td>92</td>\n",
              "      <td>3.115</td>\n",
              "      <td>0.706897</td>\n",
              "      <td>8.8438</td>\n",
              "      <td>5.429285</td>\n",
              "      <td>4.06405</td>\n",
              "      <td>468.786</td>\n",
              "      <td>1</td>\n",
              "    </tr>\n",
              "    <tr>\n",
              "      <th>2</th>\n",
              "      <td>82</td>\n",
              "      <td>23.124670</td>\n",
              "      <td>91</td>\n",
              "      <td>4.498</td>\n",
              "      <td>1.009651</td>\n",
              "      <td>17.9393</td>\n",
              "      <td>22.432040</td>\n",
              "      <td>9.27715</td>\n",
              "      <td>554.697</td>\n",
              "      <td>1</td>\n",
              "    </tr>\n",
              "    <tr>\n",
              "      <th>3</th>\n",
              "      <td>68</td>\n",
              "      <td>21.367521</td>\n",
              "      <td>77</td>\n",
              "      <td>3.226</td>\n",
              "      <td>0.612725</td>\n",
              "      <td>9.8827</td>\n",
              "      <td>7.169560</td>\n",
              "      <td>12.76600</td>\n",
              "      <td>928.220</td>\n",
              "      <td>1</td>\n",
              "    </tr>\n",
              "    <tr>\n",
              "      <th>4</th>\n",
              "      <td>86</td>\n",
              "      <td>21.111111</td>\n",
              "      <td>92</td>\n",
              "      <td>3.549</td>\n",
              "      <td>0.805386</td>\n",
              "      <td>6.6994</td>\n",
              "      <td>4.819240</td>\n",
              "      <td>10.57635</td>\n",
              "      <td>773.920</td>\n",
              "      <td>1</td>\n",
              "    </tr>\n",
              "  </tbody>\n",
              "</table>\n",
              "</div>"
            ],
            "text/plain": [
              "   Age        BMI  Glucose  ...  Resistin    MCP_1  Positif_Negative\n",
              "0   48  23.500000       70  ...   7.99585  417.114                 1\n",
              "1   83  20.690495       92  ...   4.06405  468.786                 1\n",
              "2   82  23.124670       91  ...   9.27715  554.697                 1\n",
              "3   68  21.367521       77  ...  12.76600  928.220                 1\n",
              "4   86  21.111111       92  ...  10.57635  773.920                 1\n",
              "\n",
              "[5 rows x 10 columns]"
            ]
          },
          "metadata": {
            "tags": []
          },
          "execution_count": 2
        }
      ]
    },
    {
      "cell_type": "markdown",
      "metadata": {
        "id": "KuiaaYTMMFlt"
      },
      "source": [
        "Data selection\n",
        "====================\n",
        "\n",
        "**Cek columns dan colums data types:**"
      ],
      "id": "KuiaaYTMMFlt"
    },
    {
      "cell_type": "code",
      "metadata": {
        "colab": {
          "base_uri": "https://localhost:8080/"
        },
        "id": "pwhSt2l_MFlt",
        "trusted": true,
        "outputId": "615cbdd2-5275-42b6-ef27-bd506700e665"
      },
      "source": [
        "#3menampilkan Jumlah dataSet dan type data \n",
        "print(DK.shape)\n",
        "print(DK.info())"
      ],
      "id": "pwhSt2l_MFlt",
      "execution_count": null,
      "outputs": [
        {
          "output_type": "stream",
          "text": [
            "(116, 10)\n",
            "<class 'pandas.core.frame.DataFrame'>\n",
            "RangeIndex: 116 entries, 0 to 115\n",
            "Data columns (total 10 columns):\n",
            " #   Column            Non-Null Count  Dtype  \n",
            "---  ------            --------------  -----  \n",
            " 0   Age               116 non-null    int64  \n",
            " 1   BMI               116 non-null    float64\n",
            " 2   Glucose           116 non-null    int64  \n",
            " 3   Insulin           116 non-null    float64\n",
            " 4   HOMA              116 non-null    float64\n",
            " 5   Leptin            116 non-null    float64\n",
            " 6   Adiponectin       116 non-null    float64\n",
            " 7   Resistin          116 non-null    float64\n",
            " 8   MCP_1             116 non-null    float64\n",
            " 9   Positif_Negative  116 non-null    int64  \n",
            "dtypes: float64(7), int64(3)\n",
            "memory usage: 9.2 KB\n",
            "None\n"
          ],
          "name": "stdout"
        }
      ]
    },
    {
      "cell_type": "code",
      "metadata": {
        "colab": {
          "base_uri": "https://localhost:8080/"
        },
        "id": "tzI092QlMFlu",
        "trusted": true,
        "outputId": "7764ce40-a4ea-40bd-e94a-75da8c30a7ea"
      },
      "source": [
        "#4mensortir keseluruhan dataset\n",
        "print(\"******************\")\n",
        "#memeriksa baris yg duplikat pada column \n",
        "print(DK.duplicated().sum())\n",
        "print(\"******************\")\n",
        "#memeriksa baris yg berjumlah kosong pada masing - masing column\n",
        "print(DK.isna().sum())\n",
        "print(\"******************\")"
      ],
      "id": "tzI092QlMFlu",
      "execution_count": null,
      "outputs": [
        {
          "output_type": "stream",
          "text": [
            "******************\n",
            "0\n",
            "******************\n",
            "Age                 0\n",
            "BMI                 0\n",
            "Glucose             0\n",
            "Insulin             0\n",
            "HOMA                0\n",
            "Leptin              0\n",
            "Adiponectin         0\n",
            "Resistin            0\n",
            "MCP_1               0\n",
            "Positif_Negative    0\n",
            "dtype: int64\n",
            "******************\n"
          ],
          "name": "stdout"
        }
      ]
    },
    {
      "cell_type": "code",
      "metadata": {
        "id": "Fkqy27rLMFlu",
        "trusted": true
      },
      "source": [
        "#5menghapus column Age karena tidak berpengaruh\n",
        "data = DK.drop(columns=['Age'])\n",
        " "
      ],
      "id": "Fkqy27rLMFlu",
      "execution_count": null,
      "outputs": []
    },
    {
      "cell_type": "markdown",
      "metadata": {
        "id": "w_CqUMzvMFlv"
      },
      "source": [
        "# Setting Dataset\n",
        "**Dibawah Ini Pada Data Kanker Menggunakan Data X & Data Y Sebagai Berikut:**\n",
        "\n",
        "1. Untuk Data X, Sebagai DK_x Terdiri Dari: 'Age', 'BMI', 'Glucose', 'Insulin', 'HOMA', 'Leptin', 'Adiponectin','Resistin', 'MCP_1'\n",
        "2. Untuk Data Y, Sebagai DK_y Terdiri Dari: 'Positif_Negative'"
      ],
      "id": "w_CqUMzvMFlv"
    },
    {
      "cell_type": "code",
      "metadata": {
        "colab": {
          "base_uri": "https://localhost:8080/"
        },
        "id": "kIGrXhLsMFlv",
        "trusted": true,
        "outputId": "905bd869-81f2-42cf-f72d-b2cf2fc94222"
      },
      "source": [
        "#6 memisahkan atribut dan label\n",
        "predictions = ['BMI', 'Glucose', 'Insulin', 'HOMA', 'Leptin', 'Adiponectin','Resistin', 'MCP_1']\n",
        "X = data[predictions]\n",
        "y = data['Positif_Negative'] \n",
        "X.info()"
      ],
      "id": "kIGrXhLsMFlv",
      "execution_count": null,
      "outputs": [
        {
          "output_type": "stream",
          "text": [
            "<class 'pandas.core.frame.DataFrame'>\n",
            "RangeIndex: 116 entries, 0 to 115\n",
            "Data columns (total 8 columns):\n",
            " #   Column       Non-Null Count  Dtype  \n",
            "---  ------       --------------  -----  \n",
            " 0   BMI          116 non-null    float64\n",
            " 1   Glucose      116 non-null    int64  \n",
            " 2   Insulin      116 non-null    float64\n",
            " 3   HOMA         116 non-null    float64\n",
            " 4   Leptin       116 non-null    float64\n",
            " 5   Adiponectin  116 non-null    float64\n",
            " 6   Resistin     116 non-null    float64\n",
            " 7   MCP_1        116 non-null    float64\n",
            "dtypes: float64(7), int64(1)\n",
            "memory usage: 7.4 KB\n"
          ],
          "name": "stdout"
        }
      ]
    },
    {
      "cell_type": "markdown",
      "metadata": {
        "id": "F3Vpt7-6MFlw"
      },
      "source": [
        "# Setting Data Pada Train Dan Test\n",
        "**Dibawah Ini Pada Data X & Data Y Pada Train & Test Data Kanker Payudara:**\n",
        "1. Train:60%\n",
        "2. Test: 40%\n",
        "\n",
        "1. Untuk Data X Pada Data Kanker Di Train & Test, Diberi Nama Sebagai berikut: **x_train Dan x_test**\n",
        "2. Untuk Data y Pada Data Kanker Di Train & Test, Diberi Nama Sebagai berikut: **y_train Dan y_test**"
      ],
      "id": "F3Vpt7-6MFlw"
    },
    {
      "cell_type": "code",
      "metadata": {
        "colab": {
          "base_uri": "https://localhost:8080/"
        },
        "id": "DapiNkvqMFlx",
        "trusted": true,
        "outputId": "c3e4cef0-abe2-49fb-93d8-f8a5df875c24"
      },
      "source": [
        "#7 memisakan data training dan data testing\n",
        "X_train,X_test,y_train,y_test=train_test_split(X, y, test_size=0.4, random_state=50)\n",
        "print(X_train.shape)\n",
        "print (X_test.shape)"
      ],
      "id": "DapiNkvqMFlx",
      "execution_count": null,
      "outputs": [
        {
          "output_type": "stream",
          "text": [
            "(69, 8)\n",
            "(47, 8)\n"
          ],
          "name": "stdout"
        }
      ]
    },
    {
      "cell_type": "markdown",
      "metadata": {
        "id": "PpGbdkLgMFlx"
      },
      "source": [
        "**Memberikan Normalisasi pada Data Yang Digunakan**"
      ],
      "id": "PpGbdkLgMFlx"
    },
    {
      "cell_type": "code",
      "metadata": {
        "id": "Xv-b-cibMFlx",
        "trusted": true
      },
      "source": [
        "#8 Normalisasi data kedalam skala yg sama pada data atribut\n",
        "from sklearn.preprocessing import StandardScaler\n",
        "scaler = StandardScaler()\n",
        "scaler.fit(X_train)\n",
        "\n",
        "X_train = scaler.transform(X_train)\n",
        "X_test = scaler.transform(X_test)"
      ],
      "id": "Xv-b-cibMFlx",
      "execution_count": null,
      "outputs": []
    },
    {
      "cell_type": "code",
      "metadata": {
        "id": "JHxvMdphMFly",
        "trusted": true
      },
      "source": [
        "#9 mengubah nilai y ke dalam numerick\n",
        "from sklearn.preprocessing import LabelEncoder\n",
        "lb = LabelEncoder()\n",
        "lb.fit(y_train)\n",
        "\n",
        "y_train = lb.transform(y_train)\n",
        "y_test = lb.transform(y_test)"
      ],
      "id": "JHxvMdphMFly",
      "execution_count": null,
      "outputs": []
    },
    {
      "cell_type": "markdown",
      "metadata": {
        "id": "zpmBauUMMFly"
      },
      "source": [
        "# Setting Metode Pada Klasifikasi\n",
        "\n",
        "**Dibawah Ini Menggunakan 1 Metode:**\n",
        "1. Metode KNN, Diberi Nama: **KNeighborsClassifier**"
      ],
      "id": "zpmBauUMMFly"
    },
    {
      "cell_type": "markdown",
      "metadata": {
        "id": "rOtUMajub0iY"
      },
      "source": [
        "Menggunakan Klasifikasi KNN, Pada K-11"
      ],
      "id": "rOtUMajub0iY"
    },
    {
      "cell_type": "code",
      "metadata": {
        "colab": {
          "base_uri": "https://localhost:8080/"
        },
        "id": "QTvnvw5fMFlz",
        "trusted": true,
        "outputId": "6316c31f-887f-44be-fcaa-eeed241908fe"
      },
      "source": [
        "#10 proses training\n",
        "classifier = KNeighborsClassifier(n_neighbors=11)\n",
        "classifier.fit(X_train, y_train)"
      ],
      "id": "QTvnvw5fMFlz",
      "execution_count": null,
      "outputs": [
        {
          "output_type": "execute_result",
          "data": {
            "text/plain": [
              "KNeighborsClassifier(algorithm='auto', leaf_size=30, metric='minkowski',\n",
              "                     metric_params=None, n_jobs=None, n_neighbors=11, p=2,\n",
              "                     weights='uniform')"
            ]
          },
          "metadata": {
            "tags": []
          },
          "execution_count": 10
        }
      ]
    },
    {
      "cell_type": "markdown",
      "metadata": {
        "id": "iSP8aNGSMFlz"
      },
      "source": [
        "# Evaluasi"
      ],
      "id": "iSP8aNGSMFlz"
    },
    {
      "cell_type": "code",
      "metadata": {
        "colab": {
          "base_uri": "https://localhost:8080/",
          "height": 295
        },
        "id": "jcb_SPd9MFlz",
        "trusted": true,
        "outputId": "46b35288-40f2-4f2b-ebd4-011e30f0b791"
      },
      "source": [
        "#11 mencari Nilai K dari erorr yg terendah\n",
        "error = []\n",
        "\n",
        "for i in range(1, 40):\n",
        "    knn = KNeighborsClassifier(n_neighbors=i)\n",
        "    knn.fit(X_train, y_train)\n",
        "\n",
        "    pred_i = knn.predict(X_test)\n",
        "    error.append(np.mean(pred_i != y_test))\n",
        "\n",
        "plt.figure()\n",
        "plt.plot(range(1, 40), error, color='red', marker='o',\n",
        "         markerfacecolor='blue', markersize=10)\n",
        "plt.title('Rata-Rata Error terhadap nilai K')\n",
        "plt.xlabel('Nilai K')\n",
        "plt.ylabel('Rata-Rata Error')\n",
        "plt.show()"
      ],
      "id": "jcb_SPd9MFlz",
      "execution_count": null,
      "outputs": [
        {
          "output_type": "display_data",
          "data": {
            "image/png": "[encoded data removed]",
            "text/plain": [
              "<Figure size 432x288 with 1 Axes>"
            ]
          },
          "metadata": {
            "tags": [],
            "needs_background": "light"
          }
        }
      ]
    },
    {
      "cell_type": "markdown",
      "metadata": {
        "id": "VtmfFKMlMFlz"
      },
      "source": [
        "# Evaluasi Dan Analisa "
      ],
      "id": "VtmfFKMlMFlz"
    },
    {
      "cell_type": "code",
      "metadata": {
        "colab": {
          "base_uri": "https://localhost:8080/"
        },
        "id": "gLpYd7HkMFl0",
        "trusted": true,
        "outputId": "fad499d4-6641-4e10-88a6-269c8dbcfce1"
      },
      "source": [
        "#11 Evaluasi Dan Analisa Pada KNN Yang Digunakan\n",
        "from sklearn.metrics import classification_report\n",
        "y_pred = classifier.predict(X_test)\n",
        "print(classification_report(y_test, y_pred))"
      ],
      "id": "gLpYd7HkMFl0",
      "execution_count": null,
      "outputs": [
        {
          "output_type": "stream",
          "text": [
            "              precision    recall  f1-score   support\n",
            "\n",
            "           0       0.72      0.86      0.78        21\n",
            "           1       0.86      0.73      0.79        26\n",
            "\n",
            "    accuracy                           0.79        47\n",
            "   macro avg       0.79      0.79      0.79        47\n",
            "weighted avg       0.80      0.79      0.79        47\n",
            "\n"
          ],
          "name": "stdout"
        }
      ]
    },
    {
      "cell_type": "markdown",
      "metadata": {
        "id": "Y9d6BGzSb-fl"
      },
      "source": [
        "Menggunakan Klasifikasi KNN, Pada K=5"
      ],
      "id": "Y9d6BGzSb-fl"
    },
    {
      "cell_type": "code",
      "metadata": {
        "id": "omV3xsauMFl0",
        "colab": {
          "base_uri": "https://localhost:8080/"
        },
        "outputId": "81a15553-1b4d-440f-dbf9-ed3d0c77e951"
      },
      "source": [
        "#12 proses training\n",
        "classifier = KNeighborsClassifier(n_neighbors=5)\n",
        "classifier.fit(X_train, y_train)"
      ],
      "id": "omV3xsauMFl0",
      "execution_count": null,
      "outputs": [
        {
          "output_type": "execute_result",
          "data": {
            "text/plain": [
              "KNeighborsClassifier(algorithm='auto', leaf_size=30, metric='minkowski',\n",
              "                     metric_params=None, n_jobs=None, n_neighbors=5, p=2,\n",
              "                     weights='uniform')"
            ]
          },
          "metadata": {
            "tags": []
          },
          "execution_count": 13
        }
      ]
    },
    {
      "cell_type": "code",
      "metadata": {
        "colab": {
          "base_uri": "https://localhost:8080/",
          "height": 295
        },
        "id": "9aPh3qS2cKdD",
        "outputId": "d5f1ac7c-b549-4542-dd25-e1da26b462da"
      },
      "source": [
        "#12 mencari Nilai K dari erorr yg terendah\n",
        "error = []\n",
        "\n",
        "for i in range(1, 40):\n",
        "    knn = KNeighborsClassifier(n_neighbors=i)\n",
        "    knn.fit(X_train, y_train)\n",
        "\n",
        "    pred_i = knn.predict(X_test)\n",
        "    error.append(np.mean(pred_i != y_test))\n",
        "\n",
        "plt.figure()\n",
        "plt.plot(range(1, 40), error, color='red', marker='o',\n",
        "         markerfacecolor='blue', markersize=10)\n",
        "plt.title('Rata-Rata Error terhadap nilai K')\n",
        "plt.xlabel('Nilai K')\n",
        "plt.ylabel('Rata-Rata Error')\n",
        "plt.show()"
      ],
      "id": "9aPh3qS2cKdD",
      "execution_count": null,
      "outputs": [
        {
          "output_type": "display_data",
          "data": {
            "image/png": "[encoded data removed]",
            "text/plain": [
              "<Figure size 432x288 with 1 Axes>"
            ]
          },
          "metadata": {
            "tags": [],
            "needs_background": "light"
          }
        }
      ]
    },
    {
      "cell_type": "code",
      "metadata": {
        "colab": {
          "base_uri": "https://localhost:8080/"
        },
        "id": "nga1JppTcWL9",
        "outputId": "91bbe91c-ac4d-4357-9b0d-71e58b311ee4"
      },
      "source": [
        "#15 Evaluasi Dan Analisa Pada KNN Yang Digunakan\n",
        "from sklearn.metrics import classification_report\n",
        "y_pred = classifier.predict(X_test)\n",
        "print(classification_report(y_test, y_pred))"
      ],
      "id": "nga1JppTcWL9",
      "execution_count": null,
      "outputs": [
        {
          "output_type": "stream",
          "text": [
            "              precision    recall  f1-score   support\n",
            "\n",
            "           0       0.70      0.76      0.73        21\n",
            "           1       0.79      0.73      0.76        26\n",
            "\n",
            "    accuracy                           0.74        47\n",
            "   macro avg       0.74      0.75      0.74        47\n",
            "weighted avg       0.75      0.74      0.75        47\n",
            "\n"
          ],
          "name": "stdout"
        }
      ]
    },
    {
      "cell_type": "code",
      "metadata": {
        "id": "UJ60cjWbccwd"
      },
      "source": [
        ""
      ],
      "id": "UJ60cjWbccwd",
      "execution_count": null,
      "outputs": []
    },
    {
      "cell_type": "markdown",
      "metadata": {
        "id": "hZRRDM1yMFl0"
      },
      "source": [
        "**Terima Kasih**"
      ],
      "id": "hZRRDM1yMFl0"
    },
    {
      "cell_type": "code",
      "metadata": {
        "id": "mi770_q8MFl0"
      },
      "source": [
        ""
      ],
      "id": "mi770_q8MFl0",
      "execution_count": null,
      "outputs": []
    }
  ]
}